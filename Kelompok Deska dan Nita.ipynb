{
 "cells": [
  {
   "cell_type": "code",
   "execution_count": null,
   "metadata": {},
   "outputs": [],
   "source": [
    "import mysql.connector as mysql\n",
    "\n",
    "conn = mysql.connect(\n",
    "    host = \"localhost\",\n",
    "    port = \"3306\",\n",
    "    user = \"root\",\n",
    "    passwd = \"korem051\"\n",
    ")\n",
    "\n",
    "try:\n",
    "    if conn.is_connected():\n",
    "        cursor = conn.cursor()\n",
    "        cursor.execute(\"CREATE DATABASE INVENTORY\")\n",
    "        cursor.execute(\"USE INVENTORY\")\n",
    "        cursor.execute(\"CREATE TABLE barang (kd_barang VARCHAR(50), nm_barang VARCHAR(100), satuan VARCHAR(20), harga int(20), stok int(10))\")\n",
    "        sql = \"INSERT INTO barang (kd_barang, nm_barang, satuan, harga, stok) VALUES (%s, %s, %s, %s, %s)\"\n",
    "        val = (\"K001\", \"Detergen\",\"pcs\",\"16000\",\"20\")\n",
    "        cursor.execute(sql, val)\n",
    "        conn.commit()\n",
    "except mysql.Error as e:\n",
    "    print('Tidak bisa konek ke DB', e)"
   ]
  }
 ],
 "metadata": {
  "language_info": {
   "name": "python"
  },
  "orig_nbformat": 4
 },
 "nbformat": 4,
 "nbformat_minor": 2
}
